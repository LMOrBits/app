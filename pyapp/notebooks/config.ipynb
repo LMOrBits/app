{
 "cells": [
  {
   "cell_type": "code",
   "execution_count": 3,
   "metadata": {},
   "outputs": [],
   "source": [
    "from pyapp.config import get_config\n",
    "\n",
    "from pathlib import Path\n",
    "\n",
    "here = Path(\"./\").resolve()\n",
    "\n",
    "config = get_config(here)\n",
    "\n"
   ]
  },
  {
   "cell_type": "code",
   "execution_count": 1,
   "metadata": {},
   "outputs": [
    {
     "name": "stdout",
     "output_type": "stream",
     "text": [
      "May 8, 2025 > 18:36:00 |  pyapp.model_connection.lm.langchain.litellm : 21 |  \u001b[1m ℹ️ INFO  |  connecing to mlflow ... \u001b[0m \n",
      "May 8, 2025 > 18:36:00 |  pyapp.serve_integration.mlflow_llamacpp : 23 |  \u001b[1m ℹ️ INFO  |  Config path: ./ \u001b[0m \n",
      "May 8, 2025 > 18:36:00 |  pyapp.serve_integration.mlflow_llamacpp : 24 |  \u001b[1m ℹ️ INFO  |  MLflow client: <mlflow.tracking.client.MlflowClient object at 0x150781580> \u001b[0m \n",
      "May 8, 2025 > 18:36:00 |  pyapp.serve_integration.mlflow_llamacpp : 26 |  \u001b[1m ℹ️ INFO  |  Experiments: [<Experiment: artifact_location='mlflow-artifacts:/0', creation_time=1745927919661, experiment_id='0', last_update_time=1745927919661, lifecycle_stage='active', name='Default', tags={}>] \u001b[0m \n",
      "May 8, 2025 > 18:36:00 |  serve.servers.llamacpp.serve : 54 |  \u001b[1m ℹ️ INFO  |  Initialized LLaMA CPP server manager \u001b[0m \n",
      "May 8, 2025 > 18:36:00 |  serve.utils.model_config : 66 |  \u001b[1m ℹ️ INFO  |  Initialized model configuration manager with config path: /Users/parsa/Desk/projects/university/slmops-project/slmops-thesis/app_projects/app/pyapp/notebooks/config.json \u001b[0m \n",
      "May 8, 2025 > 18:36:00 |  serve.utils.mlflow.config : 127 |  \u001b[1m ℹ️ INFO  |  Initialized MLflow model configuration manager \u001b[0m \n",
      "May 8, 2025 > 18:36:00 |  serve.experiment_tracker.mlflow.mlflow_llamacpp.manager : 88 |  \u001b[1m ℹ️ INFO  |  Initialized model manager successfully \u001b[0m \n"
     ]
    },
    {
     "ename": "ValueError",
     "evalue": "Model ID 'rag_model' not found",
     "output_type": "error",
     "traceback": [
      "\u001b[31m---------------------------------------------------------------------------\u001b[39m",
      "\u001b[31mValueError\u001b[39m                                Traceback (most recent call last)",
      "\u001b[36mCell\u001b[39m\u001b[36m \u001b[39m\u001b[32mIn[1]\u001b[39m\u001b[32m, line 14\u001b[39m\n\u001b[32m     12\u001b[39m \u001b[38;5;28;01mif\u001b[39;00m ml.provider == \u001b[33m\"\u001b[39m\u001b[33mlocal\u001b[39m\u001b[33m\"\u001b[39m \u001b[38;5;129;01mand\u001b[39;00m ml.type == \u001b[33m\"\u001b[39m\u001b[33mllm\u001b[39m\u001b[33m\"\u001b[39m:\n\u001b[32m     13\u001b[39m     model_manager = get_model_manager_from_config(conf.ml.serve.model_dir)\n\u001b[32m---> \u001b[39m\u001b[32m14\u001b[39m     \u001b[43mmodel_manager\u001b[49m\u001b[43m.\u001b[49m\u001b[43mstop_serve_model\u001b[49m\u001b[43m(\u001b[49m\u001b[43mml\u001b[49m\u001b[43m.\u001b[49m\u001b[43mserve\u001b[49m\u001b[43m.\u001b[49m\u001b[43mmodel_name\u001b[49m\u001b[43m)\u001b[49m\n",
      "\u001b[36mFile \u001b[39m\u001b[32m~/Desk/projects/university/slmops-project/slmops-thesis/app_projects/app/serve/src/serve/experiment_tracker/mlflow/mlflow_llamacpp/manager.py:219\u001b[39m, in \u001b[36mModelManager.stop_serve_model\u001b[39m\u001b[34m(self, model_name)\u001b[39m\n\u001b[32m    216\u001b[39m     \u001b[38;5;28;01mif\u001b[39;00m model_name \u001b[38;5;129;01mnot\u001b[39;00m \u001b[38;5;129;01min\u001b[39;00m \u001b[38;5;28mself\u001b[39m.model_config_manager.list_models():\n\u001b[32m    217\u001b[39m         \u001b[38;5;28;01mraise\u001b[39;00m \u001b[38;5;167;01mValueError\u001b[39;00m(\u001b[33mf\u001b[39m\u001b[33m\"\u001b[39m\u001b[33mModel \u001b[39m\u001b[38;5;132;01m{\u001b[39;00mmodel_name\u001b[38;5;132;01m}\u001b[39;00m\u001b[33m not found in configuration\u001b[39m\u001b[33m\"\u001b[39m)\n\u001b[32m--> \u001b[39m\u001b[32m219\u001b[39m     \u001b[38;5;28;43mself\u001b[39;49m\u001b[43m.\u001b[49m\u001b[43mserve_manager\u001b[49m\u001b[43m.\u001b[49m\u001b[43mstop\u001b[49m\u001b[43m(\u001b[49m\u001b[43mmodel_name\u001b[49m\u001b[43m)\u001b[49m\n\u001b[32m    220\u001b[39m     logger.info(\u001b[33mf\u001b[39m\u001b[33m\"\u001b[39m\u001b[33mStopped model \u001b[39m\u001b[38;5;132;01m{\u001b[39;00mmodel_name\u001b[38;5;132;01m}\u001b[39;00m\u001b[33m\"\u001b[39m)\n\u001b[32m    222\u001b[39m \u001b[38;5;28;01mexcept\u001b[39;00m \u001b[38;5;167;01mException\u001b[39;00m \u001b[38;5;28;01mas\u001b[39;00m e:\n",
      "\u001b[36mFile \u001b[39m\u001b[32m~/Desk/projects/university/slmops-project/slmops-thesis/app_projects/app/serve/src/serve/servers/llamacpp/serve.py:192\u001b[39m, in \u001b[36mLlamaCppServer.stop\u001b[39m\u001b[34m(self, model_id)\u001b[39m\n\u001b[32m    183\u001b[39m \u001b[38;5;250m\u001b[39m\u001b[33;03m\"\"\"Stop a model instance.\u001b[39;00m\n\u001b[32m    184\u001b[39m \u001b[33;03m\u001b[39;00m\n\u001b[32m    185\u001b[39m \u001b[33;03mArgs:\u001b[39;00m\n\u001b[32m   (...)\u001b[39m\u001b[32m    189\u001b[39m \u001b[33;03m    ValueError: If the model ID doesn't exist\u001b[39;00m\n\u001b[32m    190\u001b[39m \u001b[33;03m\"\"\"\u001b[39;00m\n\u001b[32m    191\u001b[39m \u001b[38;5;28;01mif\u001b[39;00m \u001b[38;5;129;01mnot\u001b[39;00m \u001b[38;5;28many\u001b[39m(config.model_id == model_id \u001b[38;5;28;01mfor\u001b[39;00m config \u001b[38;5;129;01min\u001b[39;00m \u001b[38;5;28mself\u001b[39m.configs):\n\u001b[32m--> \u001b[39m\u001b[32m192\u001b[39m     \u001b[38;5;28;01mraise\u001b[39;00m \u001b[38;5;167;01mValueError\u001b[39;00m(\u001b[33mf\u001b[39m\u001b[33m\"\u001b[39m\u001b[33mModel ID \u001b[39m\u001b[33m'\u001b[39m\u001b[38;5;132;01m{\u001b[39;00mmodel_id\u001b[38;5;132;01m}\u001b[39;00m\u001b[33m'\u001b[39m\u001b[33m not found\u001b[39m\u001b[33m\"\u001b[39m)\n\u001b[32m    194\u001b[39m \u001b[38;5;28;01mtry\u001b[39;00m:\n\u001b[32m    195\u001b[39m     \u001b[38;5;28mself\u001b[39m.cli.run(\u001b[33m\"\u001b[39m\u001b[33mstop\u001b[39m\u001b[33m\"\u001b[39m, MODEL_ID=model_id)\n",
      "\u001b[31mValueError\u001b[39m: Model ID 'rag_model' not found"
     ]
    }
   ],
   "source": [
    "from pyapp.model_connection.lm.langchain.litellm import get_model_manager_from_config\n",
    "from dotenv import load_dotenv\n",
    "from pyapp.cli.utils import read_config,write_config\n",
    "from pyapp.cli.schemas import Config,ML\n",
    "\n",
    "config,config_dir = read_config()\n",
    "env_path = config_dir.parent / \"appdeps.env\"\n",
    "load_dotenv(env_path, override=True)\n",
    "conf = Config(**config)\n",
    "if \"ml\" in config:\n",
    "    ml = ML(**config[\"ml\"])\n",
    "    if ml.provider == \"local\" and ml.type == \"llm\":\n",
    "        model_manager = get_model_manager_from_config(conf.ml.serve.model_dir)\n",
    "        # model_manager.stop_serve_model(ml.serve.model_name)"
   ]
  },
  {
   "cell_type": "code",
   "execution_count": 4,
   "metadata": {},
   "outputs": [
    {
     "data": {
      "text/plain": [
       "{'rag_model': {'local_run_id': 'ddce9533e62948278bf6c9ea0a65fcc9',\n",
       "  'current_run_id': 'ddce9533e62948278bf6c9ea0a65fcc9',\n",
       "  'model_path': '/Users/parsa/Desk/projects/university/slmops-project/slmops-thesis/app_projects/app/pyapp/notebooks/models/rag_model',\n",
       "  'alias': 'champion',\n",
       "  'needs_update': False,\n",
       "  'mlflow_version': '3',\n",
       "  'mlflow_status': 'READY'}}"
      ]
     },
     "execution_count": 4,
     "metadata": {},
     "output_type": "execute_result"
    }
   ],
   "source": [
    "model_manager.model_config_manager.get_model_status(\"rag_model\")"
   ]
  },
  {
   "cell_type": "code",
   "execution_count": 5,
   "metadata": {},
   "outputs": [
    {
     "data": {
      "text/plain": [
       "'rag_model'"
      ]
     },
     "execution_count": 5,
     "metadata": {},
     "output_type": "execute_result"
    }
   ],
   "source": [
    "ml.serve.model_name"
   ]
  },
  {
   "cell_type": "code",
   "execution_count": 7,
   "metadata": {},
   "outputs": [
    {
     "data": {
      "text/plain": [
       "['rag_model']"
      ]
     },
     "execution_count": 7,
     "metadata": {},
     "output_type": "execute_result"
    }
   ],
   "source": [
    "model_manager.model_config_manager.list_models()"
   ]
  },
  {
   "cell_type": "code",
   "execution_count": 8,
   "metadata": {},
   "outputs": [
    {
     "data": {
      "text/plain": [
       "True"
      ]
     },
     "execution_count": 8,
     "metadata": {},
     "output_type": "execute_result"
    }
   ],
   "source": [
    "ml.serve.model_name in model_manager.model_config_manager.list_models()"
   ]
  },
  {
   "cell_type": "code",
   "execution_count": null,
   "metadata": {},
   "outputs": [],
   "source": []
  }
 ],
 "metadata": {
  "kernelspec": {
   "display_name": ".venv",
   "language": "python",
   "name": "python3"
  },
  "language_info": {
   "codemirror_mode": {
    "name": "ipython",
    "version": 3
   },
   "file_extension": ".py",
   "mimetype": "text/x-python",
   "name": "python",
   "nbconvert_exporter": "python",
   "pygments_lexer": "ipython3",
   "version": "3.12.7"
  }
 },
 "nbformat": 4,
 "nbformat_minor": 2
}
