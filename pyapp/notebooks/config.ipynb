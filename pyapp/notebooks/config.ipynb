{
 "cells": [
  {
   "cell_type": "code",
   "execution_count": 10,
   "metadata": {},
   "outputs": [
    {
     "name": "stdout",
     "output_type": "stream",
     "text": [
      "May 11, 2025 > 15:45:04 |  pyapp.model_connection.model : 12 |  \u001b[1m ℹ️ INFO  |  Searching for config file appdeps.toml \u001b[0m \n",
      "May 11, 2025 > 15:45:04 |  pyapp.model_connection.model : 14 |  \u001b[34m\u001b[1m 🐞 DEBUG  |  Checking /Users/parsa/Desk/projects/university/slmops-project/slmops-thesis/app_projects/app/pyapp/notebooks/embed/appdeps.toml/appdeps.toml \u001b[0m \n",
      "May 11, 2025 > 15:45:04 |  pyapp.model_connection.model : 14 |  \u001b[34m\u001b[1m 🐞 DEBUG  |  Checking /Users/parsa/Desk/projects/university/slmops-project/slmops-thesis/app_projects/app/pyapp/notebooks/embed/appdeps.toml \u001b[0m \n"
     ]
    }
   ],
   "source": [
    "from pyapp.serve_integration import get_mlflow_embeddings_manager, get_mlflow_lm_manager\n",
    "from pyapp.model_connection.model import get_ml_from_config_dir\n",
    "from pathlib import Path\n",
    "here = Path(\"./\").resolve()\n",
    "p = here / \"embed\"/\"appdeps.toml\"\n",
    "ml = get_ml_from_config_dir(p , \"appdeps.toml\")\n",
    "manager = get_mlflow_embeddings_manager(ml.model_dir)"
   ]
  },
  {
   "cell_type": "code",
   "execution_count": 11,
   "metadata": {},
   "outputs": [
    {
     "data": {
      "text/plain": [
       "True"
      ]
     },
     "execution_count": 11,
     "metadata": {},
     "output_type": "execute_result"
    }
   ],
   "source": [
    "manager.new_model_status(ml.embeddings.model_name,ml.embeddings.alias)"
   ]
  },
  {
   "cell_type": "code",
   "execution_count": 13,
   "metadata": {},
   "outputs": [
    {
     "data": {
      "text/plain": [
       "PosixPath('/Users/parsa/Desk/projects/university/slmops-project/slmops-thesis/app_projects/app/pyapp/notebooks/models')"
      ]
     },
     "execution_count": 13,
     "metadata": {},
     "output_type": "execute_result"
    }
   ],
   "source": [
    "manager.desrie_path"
   ]
  },
  {
   "cell_type": "code",
   "execution_count": 1,
   "metadata": {},
   "outputs": [],
   "source": [
    "from pyapp.main import Pyapp\n",
    "from pathlib import Path\n",
    "here = Path(\"./\").resolve() \n",
    "tt = here / \"tt\"\n",
    "pyapp_instance = Pyapp(tt)"
   ]
  },
  {
   "cell_type": "code",
   "execution_count": 2,
   "metadata": {},
   "outputs": [
    {
     "data": {
      "text/plain": [
       "PosixPath('/Users/parsa/Desk/projects/university/slmops-project/slmops-thesis/app_projects/app/pyapp/notebooks/tt')"
      ]
     },
     "execution_count": 2,
     "metadata": {},
     "output_type": "execute_result"
    }
   ],
   "source": [
    "pyapp_instance.config_path"
   ]
  },
  {
   "cell_type": "code",
   "execution_count": 5,
   "metadata": {},
   "outputs": [
    {
     "data": {
      "text/plain": [
       "PosixPath('/Users/parsa/Desk/projects/university/slmops-project/slmops-thesis/app_projects/app/pyapp/notebooks/tt/test')"
      ]
     },
     "execution_count": 5,
     "metadata": {},
     "output_type": "execute_result"
    }
   ],
   "source": [
    "pyapp_instance.dependencies[0].config_path"
   ]
  },
  {
   "cell_type": "code",
   "execution_count": null,
   "metadata": {},
   "outputs": [],
   "source": []
  }
 ],
 "metadata": {
  "kernelspec": {
   "display_name": ".venv",
   "language": "python",
   "name": "python3"
  },
  "language_info": {
   "codemirror_mode": {
    "name": "ipython",
    "version": 3
   },
   "file_extension": ".py",
   "mimetype": "text/x-python",
   "name": "python",
   "nbconvert_exporter": "python",
   "pygments_lexer": "ipython3",
   "version": "3.12.7"
  }
 },
 "nbformat": 4,
 "nbformat_minor": 2
}
