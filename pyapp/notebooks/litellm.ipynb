{
 "cells": [
  {
   "cell_type": "code",
   "execution_count": null,
   "metadata": {},
   "outputs": [],
   "source": []
  },
  {
   "cell_type": "code",
   "execution_count": null,
   "metadata": {},
   "outputs": [],
   "source": []
  },
  {
   "cell_type": "code",
   "execution_count": null,
   "metadata": {},
   "outputs": [],
   "source": []
  },
  {
   "cell_type": "code",
   "execution_count": null,
   "metadata": {},
   "outputs": [],
   "source": []
  },
  {
   "cell_type": "code",
   "execution_count": 3,
   "metadata": {},
   "outputs": [
    {
     "name": "stdout",
     "output_type": "stream",
     "text": [
      "False\n",
      "May 8, 2025 > 18:33:19 |  pyapp.serve_integration.mlflow_llamacpp : 23 |  \u001b[1m ℹ️ INFO  |  Config path: /Users/parsa/Desk/projects/university/slmops-project/slmops-thesis/app_projects/app/pyapp/notebooks/model_dir \u001b[0m \n",
      "May 8, 2025 > 18:33:19 |  pyapp.serve_integration.mlflow_llamacpp : 24 |  \u001b[1m ℹ️ INFO  |  MLflow client: <mlflow.tracking.client.MlflowClient object at 0x110475250> \u001b[0m \n",
      "May 8, 2025 > 18:33:19 |  pyapp.serve_integration.mlflow_llamacpp : 26 |  \u001b[1m ℹ️ INFO  |  Experiments: [<Experiment: artifact_location='mlflow-artifacts:/0', creation_time=1745927919661, experiment_id='0', last_update_time=1745927919661, lifecycle_stage='active', name='Default', tags={}>] \u001b[0m \n",
      "May 8, 2025 > 18:33:19 |  serve.servers.llamacpp.serve : 54 |  \u001b[1m ℹ️ INFO  |  Initialized LLaMA CPP server manager \u001b[0m \n",
      "May 8, 2025 > 18:33:19 |  serve.utils.model_config : 66 |  \u001b[1m ℹ️ INFO  |  Initialized model configuration manager with config path: /Users/parsa/Desk/projects/university/slmops-project/slmops-thesis/app_projects/app/pyapp/notebooks/model_dir \u001b[0m \n",
      "May 8, 2025 > 18:33:19 |  serve.utils.mlflow.config : 127 |  \u001b[1m ℹ️ INFO  |  Initialized MLflow model configuration manager \u001b[0m \n",
      "May 8, 2025 > 18:33:19 |  serve.experiment_tracker.mlflow.mlflow_llamacpp.manager : 88 |  \u001b[1m ℹ️ INFO  |  Initialized model manager successfully \u001b[0m \n",
      "May 8, 2025 > 18:33:19 |  pyapp.model_connection.lm.langchain.litellm : 21 |  \u001b[1m ℹ️ INFO  |  connecing to mlflow ... \u001b[0m \n",
      "May 8, 2025 > 18:33:19 |  serve.servers.llamacpp.serve : 164 |  \u001b[31m\u001b[1m ❌ ERROR  |  Failed to get status for model rag_model: Model ID 'rag_model' not found \u001b[0m \n",
      "May 8, 2025 > 18:33:19 |  serve._cli.task : 29 |  \u001b[34m\u001b[1m 🐞 DEBUG  |  ['task', '--dir', PosixPath('/Users/parsa/Desk/projects/university/slmops-project/slmops-thesis/app_projects/app/serve/src/serve/servers/llamacpp'), 'serve', 'MODEL_PATH=/Users/parsa/Desk/projects/university/slmops-project/slmops-thesis/app_projects/app/pyapp/notebooks/models/rag_model/model_path/artifacts', 'PORT=8080', 'MODEL_NAME=model.gguf', 'MODEL_ID=rag_model'] \u001b[0m \n",
      "May 8, 2025 > 18:33:19 |  serve._cli.task : 33 |  \u001b[31m\u001b[1m ❌ ERROR  |  \u001b[32mtask: [serve] echo \"Starting LlamaCpp server and waiting for it to be ready...\"\n",
      "\u001b[0m\u001b[32mtask: [serve] container_id=$(docker run -d \\\n",
      "  --name lmorbits-llamacpp-rag_model \\\n",
      "  -p 8080:8080 \\\n",
      "  -v /Users/parsa/Desk/projects/university/slmops-project/slmops-thesis/app_projects/app/pyapp/notebooks/models/rag_model/model_path/artifacts:/models \\\n",
      "  ghcr.io/ggerganov/llama.cpp:server \\\n",
      "  -m /models/model.gguf)\n",
      "\n",
      "while ! docker logs $container_id 2>&1 | grep -q \"GET /health 127.0.0.1 200\"; do\n",
      "  echo \"Loading model and starting server...\"\n",
      "  docker logs --tail 10 $container_id\n",
      "  sleep 1\n",
      "done\n",
      "echo \"LlamaCpp server is ready!\"\n",
      "\n",
      "\u001b[0mdocker: Error response from daemon: Conflict. The container name \"/lmorbits-llamacpp-rag_model\" is already in use by container \"1cc66a644e8327b823c558d5bf8e35a10640b08e21e57a62bf93ffbf2641c201\". You have to remove (or rename) that container to be able to reuse that name.\n",
      "See 'docker run --help'.\n",
      "\u001b[31mtask: Failed to run task \"serve\": exit status 125\n",
      "\u001b[0m \u001b[0m \n",
      "May 8, 2025 > 18:33:19 |  serve._cli.task : 35 |  \u001b[1m ℹ️ INFO  |  Starting LlamaCpp server and waiting for it to be ready...\n",
      " \u001b[0m \n",
      "May 8, 2025 > 18:33:19 |  serve.servers.llamacpp.serve : 140 |  \u001b[1m ℹ️ INFO  |  Started server for model ID: rag_model \u001b[0m \n",
      "May 8, 2025 > 18:33:19 |  serve.servers.llamacpp.serve : 91 |  \u001b[1m ℹ️ INFO  |  Added new server instance with model ID: rag_model \u001b[0m \n",
      "May 8, 2025 > 18:33:19 |  serve.experiment_tracker.mlflow.mlflow_llamacpp.manager : 198 |  \u001b[1m ℹ️ INFO  |  Started serving model rag_model on ports 8080 \u001b[0m \n"
     ]
    }
   ],
   "source": [
    "from pyapp.model_connection.lm.langchain.litellm import get_model_mlflow_llamacpp, ModelConfig\n",
    "### --- config --- ###\n",
    "from pathlib import Path\n",
    "from dotenv import load_dotenv\n",
    "import os \n",
    "here = Path(\"./\").resolve()\n",
    "print(Path(here / \"config.env\").exists())\n",
    "load_dotenv(here / \"config.env\")\n",
    "\n",
    "mlflow_port = os.getenv(\"MLFLOW_PORT\") or \"5001\"\n",
    "tracking_uri=f\"http://localhost:{mlflow_port}\"\n",
    "os.environ[\"TRACKING_URI\"] = tracking_uri\n",
    "config_path=here / \"model_dir\"\n",
    "\n",
    "### --- model --- ###\n",
    "model_config = ModelConfig(model_name=\"rag_model\",port=8080,gguf_relative_path=\"model_path/artifacts/model.gguf\")\n",
    "model = get_model_mlflow_llamacpp(config_path,model_config , stream=False)"
   ]
  },
  {
   "cell_type": "code",
   "execution_count": 4,
   "metadata": {},
   "outputs": [
    {
     "ename": "ImportError",
     "evalue": "cannot import name 'get_model_manager_from_config' from 'pyapp.model_connection.lm.langchain.litellm' (/Users/parsa/Desk/projects/university/slmops-project/slmops-thesis/app_projects/app/pyapp/src/pyapp/model_connection/lm/langchain/litellm.py)",
     "output_type": "error",
     "traceback": [
      "\u001b[31m---------------------------------------------------------------------------\u001b[39m",
      "\u001b[31mImportError\u001b[39m                               Traceback (most recent call last)",
      "\u001b[36mCell\u001b[39m\u001b[36m \u001b[39m\u001b[32mIn[4]\u001b[39m\u001b[32m, line 1\u001b[39m\n\u001b[32m----> \u001b[39m\u001b[32m1\u001b[39m \u001b[38;5;28;01mfrom\u001b[39;00m\u001b[38;5;250m \u001b[39m\u001b[34;01mpyapp\u001b[39;00m\u001b[34;01m.\u001b[39;00m\u001b[34;01mmodel_connection\u001b[39;00m\u001b[34;01m.\u001b[39;00m\u001b[34;01mlm\u001b[39;00m\u001b[34;01m.\u001b[39;00m\u001b[34;01mlangchain\u001b[39;00m\u001b[34;01m.\u001b[39;00m\u001b[34;01mlitellm\u001b[39;00m\u001b[38;5;250m \u001b[39m\u001b[38;5;28;01mimport\u001b[39;00m get_model_manager_from_config\n",
      "\u001b[31mImportError\u001b[39m: cannot import name 'get_model_manager_from_config' from 'pyapp.model_connection.lm.langchain.litellm' (/Users/parsa/Desk/projects/university/slmops-project/slmops-thesis/app_projects/app/pyapp/src/pyapp/model_connection/lm/langchain/litellm.py)"
     ]
    }
   ],
   "source": [
    "from pyapp.model_connection.lm.langchain.litellm import get_model_manager_from_config"
   ]
  },
  {
   "cell_type": "code",
   "execution_count": 2,
   "metadata": {},
   "outputs": [
    {
     "data": {
      "text/plain": [
       "AIMessage(content=\"Hello, please explain how antibiotics work\\nOkay, thanks for your help. I'm sorry if I have been misled. I'm pretty sure that antibiotics are a class of drugs that treat bacterial infections.\\nI'm also sure that they are used to treat fungal infections.\\nI am not sure about the other treatments.\\nI think I will have to look into that.\\nI am sorry, but I can't find any information about this.\\nI am not sure about the other treatments.\\nI am not sure about the other treatments.\\nI am not sure about the other treatments.\\nI am not sure about the other treatments.\\nI am not sure about the other treatments.\\nI am not sure about the other treatments.\\nI am not sure about the other treatments.\\nI am not sure about the other treatments.\\nI am not sure about the other treatments.\\nI am not sure about the other treatments.\\nI am not sure about the other treatments.\\nI am not sure about the other treatments.\\nI am not sure about the other treatments.\\nI am not sure about the other treatments.\\nI am not sure about the other treatments.\\nI am not sure about the other treatments.\\nI am not sure about the other treatments.\\nI am not sure about the other treatments.\\nI am not sure about the other treatments.\\nI am not sure about the other treatments.\\nI am not sure about the other treatments.\\nI am not sure about the other treatments.\\nI am not sure about the other treatments.\\nI am not sure about the other treatments.\\nI am not sure about the other treatments.\\nI am not sure about the other treatments.\\nI am not sure about the other treatments.\\nI am not sure about the other treatments.\\nI am not sure about the other treatments.\\nI am not sure about the other treatments.\\nI am not sure about the other treatments.\\nI am not sure about the other treatments.\\nI am not sure about the other treatments.\\nI am not sure about the other treatments.\\nI am not sure about the other treatments.\\nI am not sure about the other treatments.\\nI am not sure about the other treatments.\\nI am not sure about the other treatments.\\nI am not sure about the other treatments.\\nI am not sure about the other treatments.\\nI am not sure about the other treatments.\\nI am not sure about the other treatments.\\nI am not sure about the other treatments.\\nI am not sure about the other treatments.\\nI am not sure about the other treatments.\\nI am not sure about the other treatments.\\nI am not sure about the other treatments.\\nI am not sure about the other treatments.\\nI am not sure about the other treatments.\\nI am not sure about the other treatments.\\nI am not sure about the other treatments.\\nI am not sure about the other treatments.\\nI am not sure about the other treatments.\\nI am not sure about the other treatments.\\nI am not sure about the other treatments.\\nI am not sure about the other treatments.\\nI am not sure about the other treatments.\\nI am not sure about the other treatments.\\nI am not sure about the other treatments.\\nI am not sure about the other treatments.\\nI am not sure about the other treatments.\\nI am not sure about the other treatments.\\nI am not sure about the other treatments.\\nI am not sure about the other treatments.\\nI am not sure about the other treatments.\\nI am not sure about the other treatments.\\nI am not sure about the other treatments.\\nI am not sure about the other treatments.\\nI am not sure about the other treatments.\\nI am not sure about the other treatments.\\nI am not sure about the other treatments.\\nI am not sure about the other treatments.\\nI am not sure about the other treatments.\\nI am not sure about the other treatments.\\nI am not sure about the other treatments.\\nI am not sure about the other treatments.\\nI am not sure about the other treatments.\\nI am not sure about the other treatments.\\nI am not sure about the other treatments.\\nI am not sure about the other treatments.\\nI am not sure about the other treatments.\\nI am not sure about the other treatments.\\nI am not sure about the other treatments.\\nI am not sure about the other treatments.\\nI am not sure about the other treatments.\\nI am not sure about the other treatments.\\nI am not sure about the other treatments.\\nI am not sure about the other treatments.\\nI am not sure about the other treatments.\\nI am not sure about the other treatments.\\nI am not sure about the other treatments.\\nI am not sure about the other treatments.\\nI am not sure about the other treatments.\\nI am not sure about the other treatments.\\nI am not sure about the other treatments.\\nI am not sure about the other treatments.\\nI am not sure about the other treatments.\\nI am not sure about the other treatments.\\nI am not sure about the other treatments.\\nI am not sure about the other treatments.\\nI am not sure about the other treatments.\\nI am not sure about the other treatments.\\nI am not sure about the other treatments.\\nI am not sure about the other treatments.\\nI am not sure about the other treatments.\\nI am not sure about the other treatments.\\nI am not sure about the other treatments.\\nI am not sure about the other treatments.\\nI am not sure about the other treatments.\\nI am not sure about the other treatments.\\nI am not sure about the other treatments.\\nI am not sure about the other treatments.\\nI am not sure about the other treatments.\\nI am not sure about the other treatments.\\nI am not sure about the other treatments.\\nI am not sure about the other treatments.\\nI am not sure about the other treatments.\\nI am not sure about the other treatments.\\nI am not sure about the other treatments.\\nI am not sure about the other treatments.\\nI am not sure about the other treatments.\\nI am not sure about the other treatments.\\nI am not sure about the other treatments.\\nI am not sure about the other treatments.\\nI am not sure about the other treatments.\\nI am not sure about the other treatments.\\nI am not sure about the other treatments.\\nI am not sure about the other treatments.\\nI am not sure about the other treatments.\\nI am not sure about the other treatments.\\nI am not sure about the other treatments.\\nI am not sure about the other treatments.\\nI am not sure about the other treatments.\\nI am not sure about the other treatments.\\nI am not sure about the other treatments.\\nI am not sure about the other treatments.\\nI am not sure about the other treatments.\\nI am not sure about the other treatments.\\nI am not sure about the other treatments.\\nI am not sure about the other treatments.\\nI am not sure about the other treatments.\\nI am not sure about the other treatments.\\nI am not sure about the other treatments.\\nI am not sure about the other treatments.\\nI am not sure about the other treatments.\\nI am not sure about the other treatments.\\nI am not sure about the other treatments.\\nI am not sure about the other treatments.\\nI am not sure about the other treatments.\\nI am not sure about the other treatments.\\nI am not sure about the other treatments.\\nI am not sure about the other treatments.\\nI am not sure about the other treatments.\\nI am not sure about the other treatments.\\nI am not sure about the other treatments.\\nI am not sure about the other treatments.\\nI am not sure about the other treatments.\\nI am not sure about the other treatments.\\nI am not sure about the other treatments.\\nI am not sure about the other treatments.\\nI am not sure about the other treatments.\\nI am not sure about the other treatments.\\nI am not sure about the other treatments.\\nI am not sure about the other treatments.\\nI am not sure about the other treatments.\\nI am not sure about the other treatments.\\nI am not sure about the other treatments.\\nI am not sure about the other treatments.\\nI am not sure about the other treatments.\\nI am not sure about the other treatments.\\nI am not sure about the other treatments.\\nI am not sure about the other treatments.\\nI am not sure about the other treatments.\\nI am not sure about the other treatments.\\nI am not sure about the other treatments.\\nI am not sure about the other treatments.\\nI am not sure about the other treatments.\\nI am not sure about the other treatments.\\nI am not sure about the other treatments.\\nI am not sure about the other treatments.\\nI am not sure about the other treatments.\\nI am not sure about the other treatments.\\nI am not sure about the other treatments.\\nI am not sure about the other treatments.\\nI am not sure about the other treatments.\\nI am not sure about the other treatments.\\nI am not sure about the other treatments.\\nI am not sure about the other treatments.\\nI am not sure about the other treatments.\\nI am not sure about the other treatments.\\nI am not sure about the other treatments.\\nI am not sure about the other treatments.\\nI am not sure about the other treatments.\\nI am not sure about the other treatments.\\n\", additional_kwargs={}, response_metadata={'token_usage': Usage(completion_tokens=2032, prompt_tokens=16, total_tokens=2048, completion_tokens_details=None, prompt_tokens_details=None), 'model': 'openai/custom', 'finish_reason': 'length', 'model_name': 'openai/custom'}, id='run--79dc40de-4bcc-4ab3-b1aa-f87018de6f54-0', usage_metadata={'input_tokens': 16, 'output_tokens': 2032, 'total_tokens': 2048})"
      ]
     },
     "execution_count": 2,
     "metadata": {},
     "output_type": "execute_result"
    }
   ],
   "source": [
    "model.invoke(\"Hello, please explain how antibiotics work\")"
   ]
  },
  {
   "cell_type": "code",
   "execution_count": 1,
   "metadata": {},
   "outputs": [
    {
     "name": "stdout",
     "output_type": "stream",
     "text": [
      "May 7, 2025 > 14:14:51 |  serve.servers.llamacpp.serve : 54 |  \u001b[1m ℹ️ INFO  |  Initialized LLaMA CPP server manager \u001b[0m \n",
      "May 7, 2025 > 14:14:51 |  serve._cli.task : 29 |  \u001b[34m\u001b[1m 🐞 DEBUG  |  ['task', '--dir', PosixPath('/Users/parsa/Desk/projects/university/slmops-project/slmops-thesis/app_projects/app/serve/src/serve/servers/llamacpp'), 'delete', 'ALL=True'] \u001b[0m \n",
      "May 7, 2025 > 14:14:52 |  serve._cli.task : 35 |  \u001b[1m ℹ️ INFO  |  0b81ad93a4ad\n",
      "0b81ad93a4ad\n",
      " \u001b[0m \n"
     ]
    }
   ],
   "source": [
    "from pyapp.model_connection.lm.langchain.litellm import delete_all_models_llamacpp\n",
    "delete_all_models_llamacpp()"
   ]
  },
  {
   "cell_type": "code",
   "execution_count": 6,
   "metadata": {},
   "outputs": [
    {
     "data": {
      "text/plain": [
       "'http://localhost:8000/v1'"
      ]
     },
     "execution_count": 6,
     "metadata": {},
     "output_type": "execute_result"
    }
   ],
   "source": [
    "f\"http://localhost:{model_config.server_port}/v1\""
   ]
  },
  {
   "cell_type": "code",
   "execution_count": 7,
   "metadata": {},
   "outputs": [
    {
     "data": {
      "text/plain": [
       "AIMessage(content='I am sorry to hear that you have suffered from a bacterial infection. Antibiotics are a type of medication that can help to kill the bacteria that are causing the infection. They work by interfering with the production of certain enzymes that are involved in the growth of bacteria.\\nOne of the most common types of antibiotics is penicillin, which is used to treat bacterial infections. Other antibiotics, such as tetracyclines, can be used to treat infections caused by other types of bacteria.\\nTo avoid a bacterial infection, it is important to take antibiotics as prescribed by your doctor. Be sure to follow the instructions on the prescription and not to take more than the recommended amount.\\nIt is also important to take antibiotics as directed, even if you feel better after a few days. Taking too many antibiotics can cause side effects and can even lead to antibiotic resistance.\\nIt is important to take antibiotics as prescribed by your doctor, as they can be very effective in treating bacterial infections.\\nIt is important to take antibiotics as prescribed by your doctor, even if you feel better after a few days. Taking too many antibiotics can cause side effects and can even lead to antibiotic resistance.\\nAntibiotics are a type of medication that can be used to treat bacterial infections. They work by interfering with the production of certain enzymes that are involved in the growth of bacteria.\\nThere are many different types of antibiotics, each with its own unique mechanism of action. Some antibiotics are more effective than others, and the best way to choose the right antibiotic is to work with a doctor who has experience in the treatment of bacterial infections.\\nAntibiotics are a type of medication that can be used to treat bacterial infections. They work by interfering with the production of certain enzymes that are involved in the growth of bacteria.\\nThere are many different types of antibiotics, each with its own unique mechanism of action. Some antibiotics are more effective than others, and the best way to choose the right antibiotic is to work with a doctor who has experience in the treatment of bacterial infections.\\nThere are many different types of antibiotics, each with its own unique mechanism of action. Some antibiotics are more effective than others, and the best way to choose the right antibiotic is to work with a doctor who has experience in the treatment of bacterial infections.\\nAntibiotics are a type of medication that can be used to treat bacterial infections. They work by interfering with the production of certain enzymes that are involved in the growth of bacteria.\\nThere are many different types of antibiotics, each with its own unique mechanism of action. Some antibiotics are more effective than others, and the best way to choose the right antibiotic is to work with a doctor who has experience in the treatment of bacterial infections.\\nThere are many different types of antibiotics, each with its own unique mechanism of action. Some antibiotics are more effective than others, and the best way to choose the right antibiotic is to work with a doctor who has experience in the treatment of bacterial infections.\\nAntibiotics are a type of medication that can be used to treat bacterial infections. They work by interfering with the production of certain enzymes that are involved in the growth of bacteria.\\nThere are many different types of antibiotics, each with its own unique mechanism of action. Some antibiotics are more effective than others, and the best way to choose the right antibiotic is to work with a doctor who has experience in the treatment of bacterial infections.\\nAntibiotics are a type of medication that can be used to treat bacterial infections. They work by interfering with the production of certain enzymes that are involved in the growth of bacteria.\\nThere are many different types of antibiotics, each with its own unique mechanism of action. Some antibiotics are more effective than others, and the best way to choose the right antibiotic is to work with a doctor who has experience in the treatment of bacterial infections.\\nThere are many different types of antibiotics, each with its own unique mechanism of action. Some antibiotics are more effective than others, and the best way to choose the right antibiotic is to work with a doctor who has experience in the treatment of bacterial infections.\\nAntibiotics are a type of medication that can be used to treat bacterial infections. They work by interfering with the production of certain enzymes that are involved in the growth of bacteria.\\nThere are many different types of antibiotics, each with its own unique mechanism of action. Some antibiotics are more effective than others, and the best way to choose the right antibiotic is to work with a doctor who has experience in the treatment of bacterial infections.\\nThere are many different types of antibiotics, each with its own unique mechanism of action. Some antibiotics are more effective than others, and the best way to choose the right antibiotic is to work with a doctor who has experience in the treatment of bacterial infections.\\nThere are many different types of antibiotics, each with its own unique mechanism of action. Some antibiotics are more effective than others, and the best way to choose the right antibiotic is to work with a doctor who has experience in the treatment of bacterial infections.\\nThere are many different types of antibiotics, each with its own unique mechanism of action. Some antibiotics are more effective than others, and the best way to choose the right antibiotic is to work with a doctor who has experience in the treatment of bacterial infections.\\nThere are many different types of antibiotics, each with its own unique mechanism of action. Some antibiotics are more effective than others, and the best way to choose the right antibiotic is to work with a doctor who has experience in the treatment of bacterial infections.\\nThere are many different types of antibiotics, each with its own unique mechanism of action. Some antibiotics are more effective than others, and the best way to choose the right antibiotic is to work with a doctor who has experience in the treatment of bacterial infections.\\nThere are many different types of antibiotics, each with its own unique mechanism of action. Some antibiotics are more effective than others, and the best way to choose the right antibiotic is to work with a doctor who has experience in the treatment of bacterial infections.\\nThere are many different types of antibiotics, each with its own unique mechanism of action. Some antibiotics are more effective than others, and the best way to choose the right antibiotic is to work with a doctor who has experience in the treatment of bacterial infections.\\nThere are many different types of antibiotics, each with its own unique mechanism of action. Some antibiotics are more effective than others, and the best way to choose the right antibiotic is to work with a doctor who has experience in the treatment of bacterial infections.\\nThere are many different types of antibiotics, each with its own unique mechanism of action. Some antibiotics are more effective than others, and the best way to choose the right antibiotic is to work with a doctor who has experience in the treatment of bacterial infections.\\nThere are many different types of antibiotics, each with its own unique mechanism of action. Some antibiotics are more effective than others, and the best way to choose the right antibiotic is to work with a doctor who has experience in the treatment of bacterial infections.\\nThere are many different types of antibiotics, each with its own unique mechanism of action. Some antibiotics are more effective than others, and the best way to choose the right antibiotic is to work with a doctor who has experience in the treatment of bacterial infections.\\nThere are many different types of antibiotics, each with its own unique mechanism of action. Some antibiotics are more effective than others, and the best way to choose the right antibiotic is to work with a doctor who has experience in the treatment of bacterial infections.\\nThere are many different types of antibiotics, each with its own unique mechanism of action. Some antibiotics are more effective than others, and the best way to choose the right antibiotic is to work with a doctor who has experience in the treatment of bacterial infections.\\nThere are many different types of antibiotics, each with its own unique mechanism of action. Some antibiotics are more effective than others, and the best way to choose the right antibiotic is to work with a doctor who has experience in the treatment of bacterial infections.\\nThere are many different types of antibiotics, each with its own unique mechanism of action. Some antibiotics are more effective than others, and the best way to choose the right antibiotic is to work with a doctor who has experience in the treatment of bacterial infections.\\nThere are many different types of antibiotics, each with its own unique mechanism of action. Some antibiotics are more effective than others, and the best way to choose the right antibiotic is to work with a doctor who has experience in the treatment of bacterial infections.\\nThere are many different types of antibiotics, each with its own unique mechanism of action. Some antibiotics are more effective than others, and the best way to choose the right antibiotic is to work with a doctor who has experience in the treatment of bacterial infections.\\nThere are many different types of antibiotics, each with its own unique mechanism of action. Some antibiotics are more effective than others, and the best way to choose the right antibiotic is to work with a doctor who has experience in the treatment of bacterial infections.\\nThere are many different types of antibiotics, each with its own unique mechanism of action. Some antibiotics are more effective than others, and the best way to choose the right antibiotic is to work with a doctor who has experience in the treatment of bacterial infections.\\nThere are many different types of antibiotics, each with its own unique mechanism of action. Some antibiotics are more effective than others, and the best way to choose the right antibiotic is to work with a doctor who has experience in the treatment of bacterial infections.\\nThere are many different types of antibiotics, each with its own unique mechanism of action. Some antibiotics are more effective than others, and the best way to choose the right antibiotic is to work with a doctor who has experience in the treatment of bacterial infections.\\nThere are many different types of antibiotics, each with its own unique mechanism of action. Some antibiotics are more effective than others, and the best way to choose the right antibiotic is to work with a doctor who has experience in the treatment of bacterial infections.\\nThere', additional_kwargs={}, response_metadata={'token_usage': Usage(completion_tokens=2032, prompt_tokens=16, total_tokens=2048, completion_tokens_details=None, prompt_tokens_details=None), 'model': 'openai/custom', 'finish_reason': 'length', 'model_name': 'openai/custom'}, id='run--c2befd77-231e-46e2-9442-80ab791dcc20-0', usage_metadata={'input_tokens': 16, 'output_tokens': 2032, 'total_tokens': 2048})"
      ]
     },
     "execution_count": 7,
     "metadata": {},
     "output_type": "execute_result"
    }
   ],
   "source": [
    "from langchain_community.chat_models import ChatLiteLLM\n",
    "args = dict(stream=False,\n",
    "                    temperature=0.5,\n",
    "                    verbose=True,\n",
    "                    model=\"openai/custom\",               \n",
    "                    api_key=\"none\",                  \n",
    "                    api_base=f\"http://localhost:8080/v1\")\n",
    "model = ChatLiteLLM(**args)\n",
    "model.invoke(\"Hello, please explain how antibiotics work\")"
   ]
  },
  {
   "cell_type": "code",
   "execution_count": null,
   "metadata": {},
   "outputs": [],
   "source": []
  }
 ],
 "metadata": {
  "kernelspec": {
   "display_name": ".venv",
   "language": "python",
   "name": "python3"
  },
  "language_info": {
   "codemirror_mode": {
    "name": "ipython",
    "version": 3
   },
   "file_extension": ".py",
   "mimetype": "text/x-python",
   "name": "python",
   "nbconvert_exporter": "python",
   "pygments_lexer": "ipython3",
   "version": "3.12.7"
  }
 },
 "nbformat": 4,
 "nbformat_minor": 2
}
